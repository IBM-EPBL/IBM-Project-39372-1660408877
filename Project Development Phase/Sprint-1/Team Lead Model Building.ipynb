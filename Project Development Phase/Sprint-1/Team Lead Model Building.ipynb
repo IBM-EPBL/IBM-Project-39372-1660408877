{
  "nbformat": 4,
  "nbformat_minor": 0,
  "metadata": {
    "colab": {
      "provenance": [],
      "collapsed_sections": []
    },
    "kernelspec": {
      "name": "python3",
      "display_name": "Python 3"
    },
    "language_info": {
      "name": "python"
    }
  },
  "cells": [
    {
      "cell_type": "code",
      "execution_count": 1,
      "metadata": {
        "id": "rKK-26NCYUPn"
      },
      "outputs": [],
      "source": [
        "#Import The ImageDataGenerator Library\n",
        "from keras.preprocessing.image import ImageDataGenerator"
      ]
    },
    {
      "cell_type": "code",
      "source": [
        "#image data augmentation\n",
        "train_datagen = ImageDataGenerator(rescale=1./255,shear_range=0.2,zoom_range=0.2,horizontal_flip=True)\n",
        "test_datagen = ImageDataGenerator(rescale=1./255)"
      ],
      "metadata": {
        "id": "A6N8qp88-xr9"
      },
      "execution_count": 2,
      "outputs": []
    },
    {
      "cell_type": "code",
      "source": [
        "#performing data augmentation to test the data\n",
        "x_train=train_datagen.flow_from_directory(r'/content/drive/MyDrive/TRAIN_SET-20221026T035517Z-001/TRAIN_SET',target_size=(64,64),batch_size=5,color_mode='rgb',class_mode='sparse')\n"
      ],
      "metadata": {
        "colab": {
          "base_uri": "https://localhost:8080/"
        },
        "id": "mkoKgxB_-7Fr",
        "outputId": "0a01bbba-2865-4971-a6d7-6f99bad952dd"
      },
      "execution_count": 21,
      "outputs": [
        {
          "output_type": "stream",
          "name": "stdout",
          "text": [
            "Found 4118 images belonging to 5 classes.\n"
          ]
        }
      ]
    },
    {
      "cell_type": "code",
      "source": [
        "x_test=test_datagen.flow_from_directory(r\"/content/drive/MyDrive/TEST_SET-20221026T035444Z-001/TEST_SET\",target_size=(64,64),batch_size=5,color_mode='rgb',class_mode='sparse')"
      ],
      "metadata": {
        "colab": {
          "base_uri": "https://localhost:8080/"
        },
        "id": "rO3qqsz7_pwN",
        "outputId": "a0852623-abc0-4e92-ec52-93911543f08d"
      },
      "execution_count": 22,
      "outputs": [
        {
          "output_type": "stream",
          "name": "stdout",
          "text": [
            "Found 929 images belonging to 3 classes.\n"
          ]
        }
      ]
    },
    {
      "cell_type": "code",
      "source": [
        "#check no of classes\n",
        "print(x_train.class_indices)"
      ],
      "metadata": {
        "colab": {
          "base_uri": "https://localhost:8080/"
        },
        "id": "gfs7xLV4RWYK",
        "outputId": "82a929d9-c6bd-44e8-8ace-776bc82e4add"
      },
      "execution_count": 23,
      "outputs": [
        {
          "output_type": "stream",
          "name": "stdout",
          "text": [
            "{'APPLES': 0, 'BANANA': 1, 'ORANGE': 2, 'PINEAPPLE': 3, 'WATERMELON': 4}\n"
          ]
        }
      ]
    },
    {
      "cell_type": "code",
      "source": [
        "print(x_test.class_indices)"
      ],
      "metadata": {
        "colab": {
          "base_uri": "https://localhost:8080/"
        },
        "id": "E7bJh6uqVnze",
        "outputId": "84db8439-74e9-4163-e2c7-de63661102b1"
      },
      "execution_count": 24,
      "outputs": [
        {
          "output_type": "stream",
          "name": "stdout",
          "text": [
            "{'APPLES': 0, 'BANANA': 1, 'ORANGE': 2}\n"
          ]
        }
      ]
    },
    {
      "cell_type": "code",
      "source": [
        "from collections import Counter as c\n",
        "c(x_train.labels)"
      ],
      "metadata": {
        "colab": {
          "base_uri": "https://localhost:8080/"
        },
        "id": "ZG_AJdYgVn-d",
        "outputId": "9b0ee549-b39c-458a-fe18-724d59f37e20"
      },
      "execution_count": 25,
      "outputs": [
        {
          "output_type": "execute_result",
          "data": {
            "text/plain": [
              "Counter({0: 995, 1: 1354, 2: 1019, 3: 275, 4: 475})"
            ]
          },
          "metadata": {},
          "execution_count": 25
        }
      ]
    },
    {
      "cell_type": "code",
      "source": [
        "#importing the model building libraries\n",
        "import numpy as np\n",
        "from tensorflow.keras.models import Sequential\n",
        "from tensorflow.keras import layers\n",
        "from tensorflow.keras.layers import Dense,Flatten\n",
        "from tensorflow.keras.layers import Conv2D,MaxPooling2D,Dropout\n",
        "from keras.preprocessing.image import ImageDataGenerator"
      ],
      "metadata": {
        "id": "jqcZgbYEWzJv"
      },
      "execution_count": 26,
      "outputs": []
    },
    {
      "cell_type": "code",
      "source": [
        "#initialize the model\n",
        "model=Sequential()"
      ],
      "metadata": {
        "id": "ZhxjyBMYXPQ1"
      },
      "execution_count": 27,
      "outputs": []
    },
    {
      "cell_type": "code",
      "source": [
        "classifier = Sequential()"
      ],
      "metadata": {
        "id": "PjRxJastXeza"
      },
      "execution_count": 28,
      "outputs": []
    },
    {
      "cell_type": "code",
      "source": [
        "#adding CNN layers\n",
        "classifier.add(Conv2D(32, (3, 3), input_shape=(64,64,3),activation='relu'))\n",
        "classifier.add(MaxPooling2D(pool_size=(2,2)))\n",
        "classifier.add(Conv2D(32, (3,3),activation='relu'))\n",
        "classifier.add(MaxPooling2D(pool_size=(2,2)))\n",
        "classifier.add(Flatten())\n"
      ],
      "metadata": {
        "id": "UCep8FwwXXcd"
      },
      "execution_count": 29,
      "outputs": []
    },
    {
      "cell_type": "code",
      "source": [
        "#add dense layers\n",
        "classifier.add(Dense(units=128, activation='relu'))\n",
        "classifier.add(Dense(units=5,activation='softmax'))\n"
      ],
      "metadata": {
        "id": "j_lqNABFXrtf"
      },
      "execution_count": 30,
      "outputs": []
    },
    {
      "cell_type": "code",
      "source": [
        "#summary of model\n",
        "classifier.summary()"
      ],
      "metadata": {
        "colab": {
          "base_uri": "https://localhost:8080/"
        },
        "id": "8ItAAMfKYsmE",
        "outputId": "107a5ba1-a85d-4294-f20d-00c6d92b8740"
      },
      "execution_count": 31,
      "outputs": [
        {
          "output_type": "stream",
          "name": "stdout",
          "text": [
            "Model: \"sequential_2\"\n",
            "_________________________________________________________________\n",
            " Layer (type)                Output Shape              Param #   \n",
            "=================================================================\n",
            " conv2d (Conv2D)             (None, 62, 62, 32)        896       \n",
            "                                                                 \n",
            " max_pooling2d (MaxPooling2D  (None, 31, 31, 32)       0         \n",
            " )                                                               \n",
            "                                                                 \n",
            " conv2d_1 (Conv2D)           (None, 29, 29, 32)        9248      \n",
            "                                                                 \n",
            " max_pooling2d_1 (MaxPooling  (None, 14, 14, 32)       0         \n",
            " 2D)                                                             \n",
            "                                                                 \n",
            " flatten (Flatten)           (None, 6272)              0         \n",
            "                                                                 \n",
            " dense (Dense)               (None, 128)               802944    \n",
            "                                                                 \n",
            " dense_1 (Dense)             (None, 5)                 645       \n",
            "                                                                 \n",
            "=================================================================\n",
            "Total params: 813,733\n",
            "Trainable params: 813,733\n",
            "Non-trainable params: 0\n",
            "_________________________________________________________________\n"
          ]
        }
      ]
    },
    {
      "cell_type": "code",
      "source": [
        "#compile model\n",
        "classifier.compile(optimizer='adam',loss='sparse_categorical_crossentropy', metrics=['accuracy'])\n"
      ],
      "metadata": {
        "id": "a8SVfn9SYy76"
      },
      "execution_count": 32,
      "outputs": []
    },
    {
      "cell_type": "code",
      "source": [
        "#training model\n",
        "\n",
        "classifier.fit_generator(generator=x_train,steps_per_epoch = len(x_train),epochs=20,validation_data=x_test,validation_steps = len(x_test))\n"
      ],
      "metadata": {
        "colab": {
          "base_uri": "https://localhost:8080/"
        },
        "id": "pizEOHOoY8kl",
        "outputId": "7842b5d0-91ae-41b1-ff0f-60233efd7cdc"
      },
      "execution_count": 33,
      "outputs": [
        {
          "output_type": "stream",
          "name": "stderr",
          "text": [
            "/usr/local/lib/python3.7/dist-packages/ipykernel_launcher.py:3: UserWarning: `Model.fit_generator` is deprecated and will be removed in a future version. Please use `Model.fit`, which supports generators.\n",
            "  This is separate from the ipykernel package so we can avoid doing imports until\n"
          ]
        },
        {
          "output_type": "stream",
          "name": "stdout",
          "text": [
            "Epoch 1/20\n",
            "824/824 [==============================] - 1185s 1s/step - loss: 0.6245 - accuracy: 0.7458 - val_loss: 0.4983 - val_accuracy: 0.7998\n",
            "Epoch 2/20\n",
            "824/824 [==============================] - 36s 44ms/step - loss: 0.4245 - accuracy: 0.8371 - val_loss: 0.5750 - val_accuracy: 0.7729\n",
            "Epoch 3/20\n",
            "824/824 [==============================] - 36s 44ms/step - loss: 0.3883 - accuracy: 0.8548 - val_loss: 0.4872 - val_accuracy: 0.7987\n",
            "Epoch 4/20\n",
            "824/824 [==============================] - 37s 45ms/step - loss: 0.3595 - accuracy: 0.8701 - val_loss: 0.4198 - val_accuracy: 0.8396\n",
            "Epoch 5/20\n",
            "824/824 [==============================] - 36s 43ms/step - loss: 0.3399 - accuracy: 0.8723 - val_loss: 0.5495 - val_accuracy: 0.7417\n",
            "Epoch 6/20\n",
            "824/824 [==============================] - 36s 44ms/step - loss: 0.3307 - accuracy: 0.8732 - val_loss: 0.3646 - val_accuracy: 0.8633\n",
            "Epoch 7/20\n",
            "824/824 [==============================] - 36s 43ms/step - loss: 0.2910 - accuracy: 0.8851 - val_loss: 0.4005 - val_accuracy: 0.8450\n",
            "Epoch 8/20\n",
            "824/824 [==============================] - 36s 43ms/step - loss: 0.2886 - accuracy: 0.8898 - val_loss: 0.3515 - val_accuracy: 0.8708\n",
            "Epoch 9/20\n",
            "824/824 [==============================] - 38s 46ms/step - loss: 0.2684 - accuracy: 0.9038 - val_loss: 0.4589 - val_accuracy: 0.8159\n",
            "Epoch 10/20\n",
            "824/824 [==============================] - 36s 43ms/step - loss: 0.2497 - accuracy: 0.8990 - val_loss: 0.4319 - val_accuracy: 0.8192\n",
            "Epoch 11/20\n",
            "824/824 [==============================] - 36s 43ms/step - loss: 0.2391 - accuracy: 0.9077 - val_loss: 0.4649 - val_accuracy: 0.8149\n",
            "Epoch 12/20\n",
            "824/824 [==============================] - 35s 43ms/step - loss: 0.2314 - accuracy: 0.9114 - val_loss: 0.5456 - val_accuracy: 0.8202\n",
            "Epoch 13/20\n",
            "824/824 [==============================] - 35s 43ms/step - loss: 0.2262 - accuracy: 0.9145 - val_loss: 0.3481 - val_accuracy: 0.8741\n",
            "Epoch 14/20\n",
            "824/824 [==============================] - 35s 42ms/step - loss: 0.1901 - accuracy: 0.9257 - val_loss: 0.3560 - val_accuracy: 0.8848\n",
            "Epoch 15/20\n",
            "824/824 [==============================] - 35s 43ms/step - loss: 0.1802 - accuracy: 0.9322 - val_loss: 0.3374 - val_accuracy: 0.8902\n",
            "Epoch 16/20\n",
            "824/824 [==============================] - 35s 43ms/step - loss: 0.1658 - accuracy: 0.9352 - val_loss: 0.4012 - val_accuracy: 0.8859\n",
            "Epoch 17/20\n",
            "824/824 [==============================] - 35s 43ms/step - loss: 0.1769 - accuracy: 0.9310 - val_loss: 0.3564 - val_accuracy: 0.8805\n",
            "Epoch 18/20\n",
            "824/824 [==============================] - 35s 43ms/step - loss: 0.1500 - accuracy: 0.9451 - val_loss: 0.3337 - val_accuracy: 0.8870\n",
            "Epoch 19/20\n",
            "824/824 [==============================] - 36s 43ms/step - loss: 0.1414 - accuracy: 0.9488 - val_loss: 0.6036 - val_accuracy: 0.7955\n",
            "Epoch 20/20\n",
            "824/824 [==============================] - 35s 43ms/step - loss: 0.1285 - accuracy: 0.9580 - val_loss: 0.3629 - val_accuracy: 0.8870\n"
          ]
        },
        {
          "output_type": "execute_result",
          "data": {
            "text/plain": [
              "<keras.callbacks.History at 0x7f84d1b71b50>"
            ]
          },
          "metadata": {},
          "execution_count": 33
        }
      ]
    },
    {
      "cell_type": "code",
      "source": [
        "#save the model\n",
        "classifier.save('nutrition.h5')"
      ],
      "metadata": {
        "id": "OZS8Sla-hVZP"
      },
      "execution_count": 35,
      "outputs": []
    }
  ]
}